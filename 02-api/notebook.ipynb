{
 "cells": [
  {
   "cell_type": "markdown",
   "metadata": {},
   "source": [
    "# 02-api\n",
    "\n",
    "Now that we have the customer history in the database, we want to enrich it with data that we get from an external API source. Design a pipeline that will pull the data from the pipeline and enrich the customer data daily."
   ]
  },
  {
   "cell_type": "code",
   "execution_count": 2,
   "metadata": {},
   "outputs": [
    {
     "data": {
      "text/plain": [
       "[{'city': 'Chicago', 'email': 'john_doe@gmail.com', 'state': 'IL'},\n",
       " {'city': 'Annapolis', 'email': 'jane_doe@gmail.com', 'state': 'MD'}]"
      ]
     },
     "execution_count": 2,
     "metadata": {},
     "output_type": "execute_result"
    }
   ],
   "source": [
    "# Once docker is started (docker compose up), validate the api is working\n",
    "import requests\n",
    "\n",
    "resp = requests.get(\"http://localhost:8000/addresses\")\n",
    "resp.json()"
   ]
  }
 ],
 "metadata": {
  "kernelspec": {
   "display_name": "Python 3",
   "language": "python",
   "name": "python3"
  },
  "language_info": {
   "codemirror_mode": {
    "name": "ipython",
    "version": 3
   },
   "file_extension": ".py",
   "mimetype": "text/x-python",
   "name": "python",
   "nbconvert_exporter": "python",
   "pygments_lexer": "ipython3",
   "version": "3.10.12"
  }
 },
 "nbformat": 4,
 "nbformat_minor": 2
}
