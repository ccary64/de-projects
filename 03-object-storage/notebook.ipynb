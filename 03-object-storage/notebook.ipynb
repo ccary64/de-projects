{
 "cells": [
  {
   "cell_type": "markdown",
   "metadata": {},
   "source": [
    "# 03-object-storage\n",
    "\n",
    "In this exercise you will ingest files from Object storage. This uses Minio to create a local object storage environment that will work like AWS S3. Create a pipeline that reads these files and creates a table that correlates the email address to the company. Assume that each file would be a full refresh"
   ]
  },
  {
   "cell_type": "code",
   "execution_count": 2,
   "metadata": {},
   "outputs": [
    {
     "name": "stdout",
     "output_type": "stream",
     "text": [
      "company=1/list.csv\n",
      "company=2/list.csv\n",
      "company=3/list.csv\n"
     ]
    }
   ],
   "source": [
    "from upload import get_s3_client\n",
    "\n",
    "s3 = get_s3_client(\n",
    "        username=\"fake_user\", password=\"Strong#Pass#2022\", url=\"http://localhost:9000\"\n",
    "    )\n",
    "response = s3.list_objects(Bucket='customers')\n",
    "for obj in response.get('Contents', []):\n",
    "    print(obj['Key'])\n",
    "s3.close()"
   ]
  }
 ],
 "metadata": {
  "kernelspec": {
   "display_name": "Python 3",
   "language": "python",
   "name": "python3"
  },
  "language_info": {
   "codemirror_mode": {
    "name": "ipython",
    "version": 3
   },
   "file_extension": ".py",
   "mimetype": "text/x-python",
   "name": "python",
   "nbconvert_exporter": "python",
   "pygments_lexer": "ipython3",
   "version": "3.10.12"
  }
 },
 "nbformat": 4,
 "nbformat_minor": 2
}
