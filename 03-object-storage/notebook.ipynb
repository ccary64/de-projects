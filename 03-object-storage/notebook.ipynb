{
 "cells": [
  {
   "cell_type": "markdown",
   "metadata": {},
   "source": [
    "# 03-object-storage\n",
    "\n",
    "In this exercise you will ingest files from Object storage. This uses Minio to create a local object storage environment that will work like AWS S3. Create a pipeline that reads these files and creates a table that correlates the email address to the company. Assume that each file would be a full refresh"
   ]
  },
  {
   "cell_type": "code",
   "execution_count": 2,
   "metadata": {},
   "outputs": [
    {
     "data": {
      "text/plain": [
       "{'ResponseMetadata': {'RequestId': '17ABD6AB133B3158',\n",
       "  'HostId': 'dd9025bab4ad464b049177c95eb6ebf374d3b3fd1af9251148b658df7ac2e3e8',\n",
       "  'HTTPStatusCode': 200,\n",
       "  'HTTPHeaders': {'accept-ranges': 'bytes',\n",
       "   'content-length': '0',\n",
       "   'location': '/customers',\n",
       "   'server': 'MinIO',\n",
       "   'strict-transport-security': 'max-age=31536000; includeSubDomains',\n",
       "   'vary': 'Origin, Accept-Encoding',\n",
       "   'x-amz-id-2': 'dd9025bab4ad464b049177c95eb6ebf374d3b3fd1af9251148b658df7ac2e3e8',\n",
       "   'x-amz-request-id': '17ABD6AB133B3158',\n",
       "   'x-content-type-options': 'nosniff',\n",
       "   'x-xss-protection': '1; mode=block',\n",
       "   'date': 'Fri, 19 Jan 2024 19:35:14 GMT'},\n",
       "  'RetryAttempts': 0},\n",
       " 'Location': '/customers'}"
      ]
     },
     "execution_count": 2,
     "metadata": {},
     "output_type": "execute_result"
    }
   ],
   "source": [
    "import boto3\n",
    "\n",
    "s3 = boto3.client('s3',\n",
    "                  endpoint_url='http://localhost:9000',\n",
    "                  aws_access_key_id='fake_user',\n",
    "                  aws_secret_access_key='Strong#Pass#2022',\n",
    "                  verify=False)\n",
    "# Create a bucket\n",
    "s3.create_bucket(Bucket='customers')"
   ]
  },
  {
   "cell_type": "code",
   "execution_count": 4,
   "metadata": {},
   "outputs": [
    {
     "name": "stdout",
     "output_type": "stream",
     "text": [
      "company=1/list.csv\n",
      "company=2/list.csv\n",
      "company=3/list.csv\n"
     ]
    }
   ],
   "source": [
    "# Upload a file to the bucket\n",
    "s3.upload_file('./data/company_1.csv', 'customers', 'company=1/list.csv')\n",
    "s3.upload_file('./data/company_2.csv', 'customers', 'company=2/list.csv')\n",
    "s3.upload_file('./data/company_3.csv', 'customers', 'company=3/list.csv')\n",
    "# List objects in the bucket\n",
    "response = s3.list_objects(Bucket='customers')\n",
    "for obj in response.get('Contents', []):\n",
    "    print(obj['Key'])"
   ]
  },
  {
   "cell_type": "code",
   "execution_count": 3,
   "metadata": {},
   "outputs": [],
   "source": [
    "s3.close()"
   ]
  }
 ],
 "metadata": {
  "kernelspec": {
   "display_name": "Python 3",
   "language": "python",
   "name": "python3"
  },
  "language_info": {
   "codemirror_mode": {
    "name": "ipython",
    "version": 3
   },
   "file_extension": ".py",
   "mimetype": "text/x-python",
   "name": "python",
   "nbconvert_exporter": "python",
   "pygments_lexer": "ipython3",
   "version": "3.10.12"
  }
 },
 "nbformat": 4,
 "nbformat_minor": 2
}
