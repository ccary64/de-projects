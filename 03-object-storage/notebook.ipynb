{
 "cells": [
  {
   "cell_type": "markdown",
   "metadata": {},
   "source": [
    "# 03-object-storage\n",
    "\n",
    "In this exercise you will ingest files from Object storage. This uses Minio to create a local object storage environment that will work like AWS S3. Create a pipeline that reads these files and creates a table that correlates the email address to the company. Assume that each file would be a full refresh"
   ]
  },
  {
   "cell_type": "code",
   "execution_count": 20,
   "metadata": {},
   "outputs": [
    {
     "name": "stdout",
     "output_type": "stream",
     "text": [
      "Note: you may need to restart the kernel to use updated packages.\n"
     ]
    }
   ],
   "source": [
    "%pip install boto3 awswrangler python-dotenv --quiet"
   ]
  },
  {
   "cell_type": "code",
   "execution_count": 22,
   "metadata": {},
   "outputs": [
    {
     "name": "stdout",
     "output_type": "stream",
     "text": [
      "company=1/list.csv\n",
      "company=2/list.csv\n",
      "company=3/list.csv\n"
     ]
    }
   ],
   "source": [
    "from dotenv import dotenv_values\n",
    "from upload import get_s3_client\n",
    "\n",
    "config = dotenv_values(\".env\")\n",
    "\n",
    "s3 = get_s3_client(\n",
    "    username=config.get(\"MINIO_ROOT_USER\"),\n",
    "    password=config.get(\"MINIO_ROOT_PASSWORD\"),\n",
    "    url=\"http://localhost:9000\",\n",
    ")\n",
    "\n",
    "response = s3.list_objects(Bucket=\"customers\")\n",
    "for obj in response.get(\"Contents\", []):\n",
    "    print(obj[\"Key\"])\n",
    "s3.close()"
   ]
  },
  {
   "cell_type": "code",
   "execution_count": 23,
   "metadata": {},
   "outputs": [
    {
     "data": {
      "text/html": [
       "<div>\n",
       "<style scoped>\n",
       "    .dataframe tbody tr th:only-of-type {\n",
       "        vertical-align: middle;\n",
       "    }\n",
       "\n",
       "    .dataframe tbody tr th {\n",
       "        vertical-align: top;\n",
       "    }\n",
       "\n",
       "    .dataframe thead th {\n",
       "        text-align: right;\n",
       "    }\n",
       "</style>\n",
       "<table border=\"1\" class=\"dataframe\">\n",
       "  <thead>\n",
       "    <tr style=\"text-align: right;\">\n",
       "      <th></th>\n",
       "      <th>id</th>\n",
       "      <th>email</th>\n",
       "      <th>company</th>\n",
       "    </tr>\n",
       "  </thead>\n",
       "  <tbody>\n",
       "    <tr>\n",
       "      <th>0</th>\n",
       "      <td>1</td>\n",
       "      <td>john_doe@gmail.com</td>\n",
       "      <td>1</td>\n",
       "    </tr>\n",
       "    <tr>\n",
       "      <th>1</th>\n",
       "      <td>1</td>\n",
       "      <td>jane_doe@gmail.com</td>\n",
       "      <td>2</td>\n",
       "    </tr>\n",
       "    <tr>\n",
       "      <th>2</th>\n",
       "      <td>1</td>\n",
       "      <td>jane_doe@gmail.com</td>\n",
       "      <td>3</td>\n",
       "    </tr>\n",
       "    <tr>\n",
       "      <th>3</th>\n",
       "      <td>2</td>\n",
       "      <td>john_doe@gmail.com</td>\n",
       "      <td>3</td>\n",
       "    </tr>\n",
       "  </tbody>\n",
       "</table>\n",
       "</div>"
      ],
      "text/plain": [
       "   id               email company\n",
       "0   1  john_doe@gmail.com       1\n",
       "1   1  jane_doe@gmail.com       2\n",
       "2   1  jane_doe@gmail.com       3\n",
       "3   2  john_doe@gmail.com       3"
      ]
     },
     "execution_count": 23,
     "metadata": {},
     "output_type": "execute_result"
    }
   ],
   "source": [
    "import awswrangler as wr\n",
    "import boto3\n",
    "from dotenv import dotenv_values\n",
    "\n",
    "config = dotenv_values(\".env\")\n",
    "\n",
    "session = boto3.Session(\n",
    "    aws_access_key_id=config.get(\"MINIO_ROOT_USER\"),\n",
    "    aws_secret_access_key=config.get(\"MINIO_ROOT_PASSWORD\"),\n",
    ")\n",
    "\n",
    "wr.config.s3_endpoint_url = \"http://localhost:9000\"\n",
    "wr.s3.read_csv(\"s3://customers\", dataset=True, delimiter=\"|\", boto3_session=session)"
   ]
  }
 ],
 "metadata": {
  "kernelspec": {
   "display_name": "Python 3",
   "language": "python",
   "name": "python3"
  },
  "language_info": {
   "codemirror_mode": {
    "name": "ipython",
    "version": 3
   },
   "file_extension": ".py",
   "mimetype": "text/x-python",
   "name": "python",
   "nbconvert_exporter": "python",
   "pygments_lexer": "ipython3",
   "version": "3.10.12"
  }
 },
 "nbformat": 4,
 "nbformat_minor": 2
}
